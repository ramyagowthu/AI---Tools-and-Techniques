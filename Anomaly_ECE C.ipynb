{
 "cells": [
  {
   "cell_type": "code",
   "execution_count": 2,
   "metadata": {},
   "outputs": [],
   "source": [
    "import numpy as np\n",
    "from matplotlib import pyplot as plt\n",
    "from scipy.io import loadmat"
   ]
  },
  {
   "cell_type": "code",
   "execution_count": 22,
   "metadata": {},
   "outputs": [],
   "source": [
    "#load data\n",
    "data=loadmat('ex8data1.mat')\n",
    "X=data['X']\n",
    "Xval=data['Xval']\n",
    "Yval=data['yval']"
   ]
  },
  {
   "cell_type": "code",
   "execution_count": 23,
   "metadata": {},
   "outputs": [
    {
     "data": {
      "text/plain": [
       "(307, 2)"
      ]
     },
     "execution_count": 23,
     "metadata": {},
     "output_type": "execute_result"
    }
   ],
   "source": [
    "X.shape"
   ]
  },
  {
   "cell_type": "code",
   "execution_count": 24,
   "metadata": {},
   "outputs": [
    {
     "data": {
      "text/plain": [
       "<function matplotlib.pyplot.show(*args, **kw)>"
      ]
     },
     "execution_count": 24,
     "metadata": {},
     "output_type": "execute_result"
    },
    {
     "data": {
      "image/png": "[encoded data removed]",
      "text/plain": [
       "<Figure size 432x288 with 1 Axes>"
      ]
     },
     "metadata": {
      "needs_background": "light"
     },
     "output_type": "display_data"
    }
   ],
   "source": [
    "#plot the data\n",
    "%matplotlib inline\n",
    "plt.scatter(X[:,0],X[:,1])\n",
    "plt.show"
   ]
  },
  {
   "cell_type": "code",
   "execution_count": 25,
   "metadata": {},
   "outputs": [
    {
     "data": {
      "text/plain": [
       "(array([14.11222578, 14.99771051]),)"
      ]
     },
     "execution_count": 25,
     "metadata": {},
     "output_type": "execute_result"
    }
   ],
   "source": [
    "#gaussian model\n",
    "mu=X.mean(axis=0)\n",
    "sigma=X.var(axis=0)\n",
    "mu,sigma"
   ]
  },
  {
   "cell_type": "code",
   "execution_count": 34,
   "metadata": {},
   "outputs": [
    {
     "data": {
      "text/plain": [
       "(307, 2)"
      ]
     },
     "execution_count": 34,
     "metadata": {},
     "output_type": "execute_result"
    }
   ],
   "source": [
    "#X values\n",
    "from scipy import stats\n",
    "p=np.zeros((X.shape[0],X.shape[1]))\n",
    "p[:,0]=stats.norm(mu[0],sigma[0]).pdf(X[:,0])\n",
    "p[:,1]=stats.norm(mu[1],sigma[1]).pdf(X[:,1])\n",
    "p.shape\n"
   ]
  },
  {
   "cell_type": "code",
   "execution_count": 35,
   "metadata": {},
   "outputs": [
    {
     "data": {
      "text/plain": [
       "(307, 2)"
      ]
     },
     "execution_count": 35,
     "metadata": {},
     "output_type": "execute_result"
    }
   ],
   "source": [
    "#X val values\n",
    "pval=np.zeros((Xval.shape[0],Xval.shape[1]))\n",
    "pval[:,0]=stats.norm(mu[0],sigma[0]).pdf(Xval[:,0])\n",
    "pval[:,1]=stats.norm(mu[1],sigma[1]).pdf(Xval[:,1])\n",
    "pval.shape"
   ]
  },
  {
   "cell_type": "code",
   "execution_count": 47,
   "metadata": {},
   "outputs": [
    {
     "name": "stderr",
     "output_type": "stream",
     "text": [
      "<ipython-input-47-9f8cc7af0a8b>:15: RuntimeWarning: invalid value encountered in double_scalars\n",
      "  precision=tp/(tp+fp)\n"
     ]
    },
    {
     "data": {
      "text/plain": [
       "(0.009566706005956842, 0.7142857142857143)"
      ]
     },
     "execution_count": 47,
     "metadata": {},
     "output_type": "execute_result"
    }
   ],
   "source": [
    "def threshold(pval,yval):\n",
    "    best_epsilon=0\n",
    "    best_f1=0\n",
    "    f1=0\n",
    "    \n",
    "    step=(pval.max()-pval.min())/1000\n",
    "    \n",
    "    for epsilon in np.arange(pval.min(),pval.max(),step):\n",
    "        preds=pval<epsilon\n",
    "        \n",
    "        tp=np.sum(np.logical_and(preds==1,yval==1)).astype(float)\n",
    "        fp=np.sum(np.logical_and(preds==1,yval==0)).astype(float)\n",
    "        fn=np.sum(np.logical_and(preds==0,yval==1)).astype(float)\n",
    "        \n",
    "        precision=tp/(tp+fp)\n",
    "        recall=tp/(tp+fn)\n",
    "        f1=(2*precision*recall)/(precision+recall)\n",
    "        \n",
    "        if(f1>best_f1):\n",
    "            best_f1=f1\n",
    "            best_epsilon=epsilon\n",
    "    return best_epsilon,best_f1\n",
    "\n",
    "epsilon,f1=threshold(pval,Yval)\n",
    "\n",
    "epsilon,f1\n",
    "            \n",
    "        "
   ]
  },
  {
   "cell_type": "code",
   "execution_count": 48,
   "metadata": {},
   "outputs": [
    {
     "data": {
      "text/plain": [
       "<matplotlib.collections.PathCollection at 0x7b0259b7f0>"
      ]
     },
     "execution_count": 48,
     "metadata": {},
     "output_type": "execute_result"
    },
    {
     "data": {
      "image/png": "[encoded data removed]",
      "text/plain": [
       "<Figure size 432x288 with 1 Axes>"
      ]
     },
     "metadata": {
      "needs_background": "light"
     },
     "output_type": "display_data"
    }
   ],
   "source": [
    "#find outlier\n",
    "outliers=np.where(p<epsilon)\n",
    "plt.scatter(X[:,0],X[:,1])\n",
    "plt.scatter(X[outliers[0],0],X[outliers[0],1],color='r',s=70)"
   ]
  },
  {
   "cell_type": "markdown",
   "metadata": {},
   "source": [
    "# End of the programe 4"
   ]
  },
  {
   "cell_type": "code",
   "execution_count": null,
   "metadata": {},
   "outputs": [],
   "source": []
  }
 ],
 "metadata": {
  "kernelspec": {
   "display_name": "Python 3",
   "language": "python",
   "name": "python3"
  },
  "language_info": {
   "codemirror_mode": {
    "name": "ipython",
    "version": 3
   },
   "file_extension": ".py",
   "mimetype": "text/x-python",
   "name": "python",
   "nbconvert_exporter": "python",
   "pygments_lexer": "ipython3",
   "version": "3.8.3"
  }
 },
 "nbformat": 4,
 "nbformat_minor": 4
}
